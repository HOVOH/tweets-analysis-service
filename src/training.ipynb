{
 "cells": [
  {
   "cell_type": "code",
   "execution_count": 1,
   "id": "489469d7",
   "metadata": {},
   "outputs": [],
   "source": [
    "import json\n",
    "import pandas as pd\n",
    "import numpy as np\n",
    "from sklearn.model_selection import train_test_split\n",
    "from text_analysis import stem_sentence, remove_urls, remove_users, remove_retweets, TextCleaner\n",
    "from data import load_data, array_to_df\n",
    "from sklearn.metrics import precision_recall_curve, average_precision_score, accuracy_score, precision_score, recall_score, f1_score\n",
    "from sklearn.preprocessing import LabelEncoder\n",
    "from sklearn.feature_extraction.text import TfidfVectorizer, TfidfTransformer, CountVectorizer\n",
    "from scipy.sparse import lil_matrix, csr_matrix\n",
    "from nltk.corpus import stopwords\n",
    "from nltk.stem.porter import PorterStemmer\n",
    "from nltk.tokenize import word_tokenize\n",
    "from sklearn.decomposition import TruncatedSVD\n",
    "from sklearn.pipeline import Pipeline\n",
    "import pickle\n",
    "import os\n",
    "import re\n",
    "from sklearn.model_selection import GridSearchCV\n",
    "from sklearn.linear_model import SGDClassifier\n",
    "from sklearn.svm import SVC, LinearSVC\n",
    "from sklearn.naive_bayes import MultinomialNB\n",
    "from mlflow import mlflow, log_metric, log_param, log_artifacts\n",
    "import mlflow.sklearn\n",
    "from mlflow.tracking.client import MlflowClient\n",
    "from column_selector import ColumnsSelector"
   ]
  },
  {
   "cell_type": "code",
   "execution_count": 2,
   "id": "8a28b13c",
   "metadata": {},
   "outputs": [],
   "source": [
    "import os\n",
    "mlflow.set_tracking_uri('http://localhost:5000')\n",
    "os.environ[\"AWS_ACCESS_KEY_ID\"] = \"imroot\"\n",
    "os.environ[\"AWS_SECRET_ACCESS_KEY\"] = \"beaconpass\"\n",
    "os.environ[\"MLFLOW_S3_ENDPOINT_URL\"] = \"http://localhost:9000\""
   ]
  },
  {
   "cell_type": "code",
   "execution_count": 3,
   "id": "7ca8a2d2",
   "metadata": {},
   "outputs": [],
   "source": [
    "df = load_data(\"labelled-tweets-20-09-2021.json\")\n",
    "x = df[[\"text\"]]\n",
    "y = array_to_df(df[\"topics\"])"
   ]
  },
  {
   "cell_type": "code",
   "execution_count": 4,
   "id": "2e8dc0da",
   "metadata": {},
   "outputs": [],
   "source": [
    "svc_pipeline = Pipeline([\n",
    "    ('text_cleaner', TextCleaner(remove_urls=True)),\n",
    "    ('select_columns', ColumnsSelector(\"text\")),\n",
    "    ('vectorizer', CountVectorizer(stop_words=stopwords.words(\"english\"))),\n",
    "    ('tfidf', TfidfTransformer()),\n",
    "    ('classifier', SVC(probability=True))\n",
    "])\n",
    "\n",
    "svc_search_params = {\n",
    "    \"text_cleaner__stem\": [True, False],\n",
    "    \"vectorizer__ngram_range\":[(1,1), (1,2), (2,2)],\n",
    "    \"classifier__kernel\":[\"linear\", \"rbf\"],\n",
    "    \"classifier__class_weight\": [\"balanced\", None]\n",
    "}\n",
    "\n",
    "svc_search = GridSearchCV(svc_pipeline, svc_search_params, cv=4, n_jobs=-1, scoring=\"recall\")"
   ]
  },
  {
   "cell_type": "code",
   "execution_count": 5,
   "id": "19c8c469",
   "metadata": {},
   "outputs": [],
   "source": [
    "sgd_pipeline = Pipeline([\n",
    "    ('text_cleaner', TextCleaner(remove_urls=True)),\n",
    "    ('select_columns', ColumnsSelector(\"text\")),\n",
    "    ('vectorizer', CountVectorizer(stop_words=stopwords.words(\"english\"))),\n",
    "    ('tfidf', TfidfTransformer()),\n",
    "    ('classifier', SGDClassifier())\n",
    "])\n",
    "\n",
    "sgd_search_params = {\n",
    "    \"text_cleaner__stem\": [True, False],\n",
    "    \"vectorizer__ngram_range\":[(1,1), (1,2), (2,2)],\n",
    "    \"classifier__kernel\":[\"linear\", \"rbf\"],\n",
    "}\n",
    "\n",
    "sgd_search = GridSearchCV(sgd_pipeline, sgd_search_params, cv=4, n_jobs=-1, scoring=\"recall\")"
   ]
  },
  {
   "cell_type": "code",
   "execution_count": 6,
   "id": "3d271939",
   "metadata": {},
   "outputs": [],
   "source": [
    "nb_pipeline = Pipeline([\n",
    "    ('text_cleaner', TextCleaner(remove_urls=True)),\n",
    "    ('select_columns', ColumnsSelector(\"text\")),\n",
    "    ('vectorizer', CountVectorizer(stop_words=stopwords.words(\"english\"))),\n",
    "    ('tfidf', TfidfTransformer()),\n",
    "    ('classifier', MultinomialNB())\n",
    "])\n",
    "\n",
    "nb_search_params = {\n",
    "    \"text_cleaner__stem\": [True, False],\n",
    "    \"vectorizer__ngram_range\":[(1,1), (1,2), (2,2)],\n",
    "}\n",
    "\n",
    "nb_search = GridSearchCV(nb_pipeline, nb_search_params, cv=4, n_jobs=-1, scoring=\"recall\")"
   ]
  },
  {
   "cell_type": "code",
   "execution_count": 7,
   "id": "21ff5738",
   "metadata": {},
   "outputs": [],
   "source": [
    "searches = [\n",
    "    (\"SVC\", svc_search), \n",
    "    #(\"SGD\", sgd_search), \n",
    "    (\"MNB\", nb_search)]\n",
    "\n",
    "def sort_by_precision(df):\n",
    "    return df.sort_values(\"precision\", ascending=False)\n",
    "\n",
    "def get_accuracy_precision_recall_f1(labels,pred):\n",
    "    acc = accuracy_score(labels,pred)\n",
    "    prec = precision_score(labels,pred,average='weighted') #,average='micro'\n",
    "    recall = recall_score(labels,pred,average='weighted')\n",
    "    f1 = f1_score(labels,pred,average='weighted')\n",
    "    return acc,prec,recall,f1\n",
    "\n",
    "def train_test_clf(x, y, clf):\n",
    "    x_train, x_test, y_train, y_test = train_test_split(x, y, test_size=0.25)\n",
    "    clf.fit(x_train, y_train)\n",
    "    predictions = clf.predict(x_test)\n",
    "    accuracy, precision, recall, f1 = get_accuracy_precision_recall_f1(y_test, predictions)\n",
    "    return accuracy, precision, recall, f1\n",
    "\n",
    "def search_best(x, y):\n",
    "    results_df = pd.DataFrame(columns=[ \"classifier\", \"accuracy\", \"precision\", \"recall\", \"f1\", \"run_id\"])\n",
    "    for name, search in searches:\n",
    "        with mlflow.start_run() as run:\n",
    "            print(\"--- Fitting\", name,\"---\")\n",
    "            log_param(\"model\", name)\n",
    "            accuracy, precision, recall, f1 = train_test_clf(x, y, search)\n",
    "            log_metric(\"accuracy\", accuracy)\n",
    "            log_metric(\"precision\", precision)\n",
    "            log_metric(\"recall\", recall)\n",
    "            log_metric(\"f1\", f1)\n",
    "            #log_param(\"Best params:\", search.best_params_)\n",
    "            mlflow.sklearn.log_model(search.best_estimator_, \"model\")\n",
    "            results_df.loc[len(results_df.index)] = [name, accuracy, precision, recall, f1, run.info.run_id]\n",
    "            print(\"Best params:\", search.best_params_)\n",
    "            mlflow.end_run()\n",
    "        \n",
    "    return sort_by_precision(results_df)\n",
    "\n",
    "\n",
    "def get_experiment_name(topic):\n",
    "    return topic+\"-tweet-labelling\"\n",
    "\n",
    "def get_experiment_id(topic):\n",
    "    experiment_name = get_experiment_name(topic)\n",
    "    current_experiment=dict(mlflow.get_experiment_by_name(experiment_name))\n",
    "    return current_experiment['experiment_id']\n",
    "    \n",
    "def get_experiment_best_metrics(topic):\n",
    "    query = \"metric\"\n",
    "    results = MlflowClient().search_runs(\n",
    "        experiment_ids=[get_experiment_id(topic)], \n",
    "        max_results=1,\n",
    "        order_by=[\"metrics.precision DESC\"]\n",
    "    )\n",
    "    return results[0].data.metrics\n",
    "\n",
    "def save_best(topic):\n",
    "    experiment_name = get_experiment_name(topic)\n",
    "    mlflow.set_experiment(experiment_name)\n",
    "    results = search_best(x, y[[topic]])\n",
    "    best_result = results.loc[0]\n",
    "    for classifier, gs in searches:\n",
    "        if classifier is best_result[\"classifier\"]:\n",
    "            print(\"Best classifier if %s\" % (best_result[\"classifier\"]))\n",
    "            print(\"Accuracy: %.3f, precision: %.3f, recall: %.3f, f1: %.3f\"%(best_result[\"accuracy\"], best_result[\"precision\"], best_result[\"recall\"], best_result[\"f1\"]))\n",
    "            best_experiment = get_experiment_best_metrics(topic)\n",
    "            print(\"Current best experiment is \", best_experiment)\n",
    "            if best_experiment[\"precision\"] <= best_result[\"precision\"]:\n",
    "                result = mlflow.register_model(\n",
    "                    \"runs:/\"+best_result[\"run_id\"]+\"/model\",\n",
    "                    experiment_name\n",
    "                )"
   ]
  },
  {
   "cell_type": "code",
   "execution_count": 8,
   "id": "8fbb921a",
   "metadata": {},
   "outputs": [
    {
     "name": "stdout",
     "output_type": "stream",
     "text": [
      "--- Fitting SVC ---\n"
     ]
    },
    {
     "name": "stderr",
     "output_type": "stream",
     "text": [
      "C:\\Users\\micdu\\Code\\microservices\\project-beacon\\tweets-analysis-service\\venv\\lib\\site-packages\\sklearn\\utils\\validation.py:985: DataConversionWarning: A column-vector y was passed when a 1d array was expected. Please change the shape of y to (n_samples, ), for example using ravel().\n",
      "  y = column_or_1d(y, warn=True)\n",
      "C:\\Users\\micdu\\Code\\microservices\\project-beacon\\tweets-analysis-service\\venv\\lib\\site-packages\\sklearn\\feature_extraction\\text.py:1208: UserWarning: Upper case characters found in vocabulary while 'lowercase' is True. These entries will not be matched with any documents\n",
      "  warnings.warn(\n"
     ]
    },
    {
     "name": "stdout",
     "output_type": "stream",
     "text": [
      "Best params: {'classifier__class_weight': 'balanced', 'classifier__kernel': 'linear', 'text_cleaner__stem': True, 'vectorizer__ngram_range': (1, 2)}\n",
      "--- Fitting MNB ---\n"
     ]
    },
    {
     "name": "stderr",
     "output_type": "stream",
     "text": [
      "C:\\Users\\micdu\\Code\\microservices\\project-beacon\\tweets-analysis-service\\venv\\lib\\site-packages\\sklearn\\utils\\validation.py:985: DataConversionWarning: A column-vector y was passed when a 1d array was expected. Please change the shape of y to (n_samples, ), for example using ravel().\n",
      "  y = column_or_1d(y, warn=True)\n",
      "C:\\Users\\micdu\\Code\\microservices\\project-beacon\\tweets-analysis-service\\venv\\lib\\site-packages\\sklearn\\feature_extraction\\text.py:1208: UserWarning: Upper case characters found in vocabulary while 'lowercase' is True. These entries will not be matched with any documents\n",
      "  warnings.warn(\n"
     ]
    },
    {
     "name": "stdout",
     "output_type": "stream",
     "text": [
      "Best params: {'text_cleaner__stem': True, 'vectorizer__ngram_range': (1, 1)}\n",
      "Best classifier if SVC\n",
      "Accuracy: 0.847, precision: 0.846, recall: 0.847, f1: 0.846\n",
      "Current best experiment is  {'accuracy': 0.847457627118644, 'f1': 0.8463140594817694, 'precision': 0.8459599308260222, 'recall': 0.847457627118644}\n"
     ]
    },
    {
     "name": "stderr",
     "output_type": "stream",
     "text": [
      "Registered model 'crypto-tweet-labelling' already exists. Creating a new version of this model...\n",
      "2021/10/24 23:54:58 INFO mlflow.tracking._model_registry.client: Waiting up to 300 seconds for model version to finish creation.                     Model name: crypto-tweet-labelling, version 3\n",
      "Created version '3' of model 'crypto-tweet-labelling'.\n"
     ]
    }
   ],
   "source": [
    "save_best(\"crypto\")"
   ]
  },
  {
   "cell_type": "code",
   "execution_count": 9,
   "id": "8305c083",
   "metadata": {},
   "outputs": [
    {
     "name": "stdout",
     "output_type": "stream",
     "text": [
      "--- Fitting SVC ---\n"
     ]
    },
    {
     "name": "stderr",
     "output_type": "stream",
     "text": [
      "C:\\Users\\micdu\\Code\\microservices\\project-beacon\\tweets-analysis-service\\venv\\lib\\site-packages\\sklearn\\utils\\validation.py:985: DataConversionWarning: A column-vector y was passed when a 1d array was expected. Please change the shape of y to (n_samples, ), for example using ravel().\n",
      "  y = column_or_1d(y, warn=True)\n",
      "C:\\Users\\micdu\\Code\\microservices\\project-beacon\\tweets-analysis-service\\venv\\lib\\site-packages\\sklearn\\feature_extraction\\text.py:1208: UserWarning: Upper case characters found in vocabulary while 'lowercase' is True. These entries will not be matched with any documents\n",
      "  warnings.warn(\n"
     ]
    },
    {
     "name": "stdout",
     "output_type": "stream",
     "text": [
      "Best params: {'classifier__class_weight': 'balanced', 'classifier__kernel': 'linear', 'text_cleaner__stem': True, 'vectorizer__ngram_range': (1, 1)}\n",
      "--- Fitting MNB ---\n"
     ]
    },
    {
     "name": "stderr",
     "output_type": "stream",
     "text": [
      "C:\\Users\\micdu\\Code\\microservices\\project-beacon\\tweets-analysis-service\\venv\\lib\\site-packages\\sklearn\\utils\\validation.py:985: DataConversionWarning: A column-vector y was passed when a 1d array was expected. Please change the shape of y to (n_samples, ), for example using ravel().\n",
      "  y = column_or_1d(y, warn=True)\n",
      "C:\\Users\\micdu\\Code\\microservices\\project-beacon\\tweets-analysis-service\\venv\\lib\\site-packages\\sklearn\\feature_extraction\\text.py:1208: UserWarning: Upper case characters found in vocabulary while 'lowercase' is True. These entries will not be matched with any documents\n",
      "  warnings.warn(\n"
     ]
    },
    {
     "name": "stdout",
     "output_type": "stream",
     "text": [
      "Best params: {'text_cleaner__stem': True, 'vectorizer__ngram_range': (1, 1)}\n",
      "Best classifier if SVC\n",
      "Accuracy: 0.898, precision: 0.889, recall: 0.898, f1: 0.893\n",
      "Current best experiment is  {'accuracy': 0.8945386064030132, 'f1': 0.8482703143618602, 'precision': 0.905702761490785, 'recall': 0.8945386064030132}\n"
     ]
    }
   ],
   "source": [
    "save_best(\"defi\")"
   ]
  },
  {
   "cell_type": "code",
   "execution_count": 10,
   "id": "d17cc7f9",
   "metadata": {},
   "outputs": [
    {
     "name": "stdout",
     "output_type": "stream",
     "text": [
      "--- Fitting SVC ---\n"
     ]
    },
    {
     "name": "stderr",
     "output_type": "stream",
     "text": [
      "C:\\Users\\micdu\\Code\\microservices\\project-beacon\\tweets-analysis-service\\venv\\lib\\site-packages\\sklearn\\utils\\validation.py:985: DataConversionWarning: A column-vector y was passed when a 1d array was expected. Please change the shape of y to (n_samples, ), for example using ravel().\n",
      "  y = column_or_1d(y, warn=True)\n",
      "C:\\Users\\micdu\\Code\\microservices\\project-beacon\\tweets-analysis-service\\venv\\lib\\site-packages\\sklearn\\feature_extraction\\text.py:1208: UserWarning: Upper case characters found in vocabulary while 'lowercase' is True. These entries will not be matched with any documents\n",
      "  warnings.warn(\n"
     ]
    },
    {
     "name": "stdout",
     "output_type": "stream",
     "text": [
      "Best params: {'classifier__class_weight': 'balanced', 'classifier__kernel': 'linear', 'text_cleaner__stem': True, 'vectorizer__ngram_range': (1, 1)}\n",
      "--- Fitting MNB ---\n"
     ]
    },
    {
     "name": "stderr",
     "output_type": "stream",
     "text": [
      "C:\\Users\\micdu\\Code\\microservices\\project-beacon\\tweets-analysis-service\\venv\\lib\\site-packages\\sklearn\\utils\\validation.py:985: DataConversionWarning: A column-vector y was passed when a 1d array was expected. Please change the shape of y to (n_samples, ), for example using ravel().\n",
      "  y = column_or_1d(y, warn=True)\n",
      "C:\\Users\\micdu\\Code\\microservices\\project-beacon\\tweets-analysis-service\\venv\\lib\\site-packages\\sklearn\\feature_extraction\\text.py:1208: UserWarning: Upper case characters found in vocabulary while 'lowercase' is True. These entries will not be matched with any documents\n",
      "  warnings.warn(\n"
     ]
    },
    {
     "name": "stdout",
     "output_type": "stream",
     "text": [
      "Best params: {'text_cleaner__stem': True, 'vectorizer__ngram_range': (1, 1)}\n",
      "Best classifier if SVC\n",
      "Accuracy: 0.977, precision: 0.977, recall: 0.977, f1: 0.977\n",
      "Current best experiment is  {'accuracy': 0.9774011299435028, 'f1': 0.9767402035709837, 'precision': 0.9765170224522707, 'recall': 0.9774011299435028}\n"
     ]
    },
    {
     "name": "stderr",
     "output_type": "stream",
     "text": [
      "Registered model 'NFT-tweet-labelling' already exists. Creating a new version of this model...\n",
      "2021/10/25 00:02:51 INFO mlflow.tracking._model_registry.client: Waiting up to 300 seconds for model version to finish creation.                     Model name: NFT-tweet-labelling, version 2\n",
      "Created version '2' of model 'NFT-tweet-labelling'.\n"
     ]
    }
   ],
   "source": [
    "save_best(\"NFT\")"
   ]
  }
 ],
 "metadata": {
  "kernelspec": {
   "display_name": "Python 3 (ipykernel)",
   "language": "python",
   "name": "python3"
  },
  "language_info": {
   "codemirror_mode": {
    "name": "ipython",
    "version": 3
   },
   "file_extension": ".py",
   "mimetype": "text/x-python",
   "name": "python",
   "nbconvert_exporter": "python",
   "pygments_lexer": "ipython3",
   "version": "3.9.6"
  }
 },
 "nbformat": 4,
 "nbformat_minor": 5
}
