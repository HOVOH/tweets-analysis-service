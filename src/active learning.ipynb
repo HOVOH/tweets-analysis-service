{
 "cells": [
  {
   "cell_type": "code",
   "execution_count": 1,
   "id": "7239fb89",
   "metadata": {},
   "outputs": [],
   "source": [
    "import pickle\n",
    "import pandas as pd\n",
    "save_folder = \"models\"\n",
    "\n",
    "def load_pipeline(label):\n",
    "    filename = get_filename(label)\n",
    "    folder = save_folder\n",
    "    filepath = folder + \"/\" + filename\n",
    "    pipeline = None\n",
    "    with open(filepath, 'rb') as file:\n",
    "        pipeline = pickle.load(file)\n",
    "    return pipeline\n",
    "\n",
    "\n",
    "def get_filename(topic):\n",
    "    return topic+\"_pipeline.pkl\""
   ]
  },
  {
   "cell_type": "code",
   "execution_count": 2,
   "id": "7ee789e9",
   "metadata": {},
   "outputs": [],
   "source": [
    "import os\n",
    "\n",
    "os.environ[\"AWS_ACCESS_KEY_ID\"] = \"imroot\"\n",
    "os.environ[\"AWS_SECRET_ACCESS_KEY\"] = \"beaconpass\"\n",
    "os.environ[\"MLFLOW_S3_ENDPOINT_URL\"] = \"http://localhost:9000\""
   ]
  },
  {
   "cell_type": "code",
   "execution_count": 3,
   "id": "12ab05c6",
   "metadata": {},
   "outputs": [],
   "source": [
    "from data import load_data, array_to_df\n",
    "from sklearn.model_selection import train_test_split\n",
    "df = load_data(\"labelled-tweets-20-09-2021.json\")\n",
    "x_raw = df[\"text\"]\n",
    "y = array_to_df(df[\"topics\"])\n"
   ]
  },
  {
   "cell_type": "code",
   "execution_count": 4,
   "id": "0bdb5a4a",
   "metadata": {},
   "outputs": [],
   "source": [
    "from sklearn.pipeline import Pipeline\n",
    "from text_analysis import TextCleaner\n",
    "from sklearn.feature_extraction.text import TfidfTransformer, CountVectorizer\n",
    "from nltk.corpus import stopwords\n",
    "\n",
    "prep_pipeline = Pipeline([\n",
    "    ('text_cleaner', TextCleaner(remove_urls=True)),\n",
    "    ('vectorizer', CountVectorizer(stop_words=stopwords.words(\"english\"))),\n",
    "    ('tfidf', TfidfTransformer()),\n",
    "])\n",
    "\n",
    "x = prep_pipeline.fit_transform(x_raw)"
   ]
  },
  {
   "cell_type": "code",
   "execution_count": 5,
   "id": "72cbd3bb",
   "metadata": {},
   "outputs": [],
   "source": [
    "x_train, x_test, y_train, y_test = train_test_split(x, y[\"crypto\"], test_size=0.25)"
   ]
  },
  {
   "cell_type": "code",
   "execution_count": 6,
   "id": "93f4bd41",
   "metadata": {},
   "outputs": [
    {
     "data": {
      "text/plain": "123     False\n637     False\n531      True\n1726     True\n800      True\n        ...  \n238     False\n1781     True\n1959    False\n899      True\n929     False\nName: crypto, Length: 1592, dtype: bool"
     },
     "execution_count": 6,
     "metadata": {},
     "output_type": "execute_result"
    }
   ],
   "source": [
    "y_train\n"
   ]
  },
  {
   "cell_type": "code",
   "execution_count": 7,
   "id": "d3892914",
   "metadata": {},
   "outputs": [
    {
     "ename": "FileNotFoundError",
     "evalue": "[Errno 2] No such file or directory: 'models/crypto_pipeline.pkl'",
     "output_type": "error",
     "traceback": [
      "\u001B[1;31m---------------------------------------------------------------------------\u001B[0m",
      "\u001B[1;31mFileNotFoundError\u001B[0m                         Traceback (most recent call last)",
      "\u001B[1;32m~\\AppData\\Local\\Temp/ipykernel_10192/1727867892.py\u001B[0m in \u001B[0;36m<module>\u001B[1;34m\u001B[0m\n\u001B[1;32m----> 1\u001B[1;33m \u001B[0mmodel\u001B[0m \u001B[1;33m=\u001B[0m \u001B[0mload_pipeline\u001B[0m\u001B[1;33m(\u001B[0m\u001B[1;34m\"crypto\"\u001B[0m\u001B[1;33m)\u001B[0m\u001B[1;33m\u001B[0m\u001B[1;33m\u001B[0m\u001B[0m\n\u001B[0m\u001B[0;32m      2\u001B[0m \u001B[1;33m\u001B[0m\u001B[0m\n",
      "\u001B[1;32m~\\AppData\\Local\\Temp/ipykernel_10192/3585884192.py\u001B[0m in \u001B[0;36mload_pipeline\u001B[1;34m(label)\u001B[0m\n\u001B[0;32m      8\u001B[0m     \u001B[0mfilepath\u001B[0m \u001B[1;33m=\u001B[0m \u001B[0mfolder\u001B[0m \u001B[1;33m+\u001B[0m \u001B[1;34m\"/\"\u001B[0m \u001B[1;33m+\u001B[0m \u001B[0mfilename\u001B[0m\u001B[1;33m\u001B[0m\u001B[1;33m\u001B[0m\u001B[0m\n\u001B[0;32m      9\u001B[0m     \u001B[0mpipeline\u001B[0m \u001B[1;33m=\u001B[0m \u001B[1;32mNone\u001B[0m\u001B[1;33m\u001B[0m\u001B[1;33m\u001B[0m\u001B[0m\n\u001B[1;32m---> 10\u001B[1;33m     \u001B[1;32mwith\u001B[0m \u001B[0mopen\u001B[0m\u001B[1;33m(\u001B[0m\u001B[0mfilepath\u001B[0m\u001B[1;33m,\u001B[0m \u001B[1;34m'rb'\u001B[0m\u001B[1;33m)\u001B[0m \u001B[1;32mas\u001B[0m \u001B[0mfile\u001B[0m\u001B[1;33m:\u001B[0m\u001B[1;33m\u001B[0m\u001B[1;33m\u001B[0m\u001B[0m\n\u001B[0m\u001B[0;32m     11\u001B[0m         \u001B[0mpipeline\u001B[0m \u001B[1;33m=\u001B[0m \u001B[0mpickle\u001B[0m\u001B[1;33m.\u001B[0m\u001B[0mload\u001B[0m\u001B[1;33m(\u001B[0m\u001B[0mfile\u001B[0m\u001B[1;33m)\u001B[0m\u001B[1;33m\u001B[0m\u001B[1;33m\u001B[0m\u001B[0m\n\u001B[0;32m     12\u001B[0m     \u001B[1;32mreturn\u001B[0m \u001B[0mpipeline\u001B[0m\u001B[1;33m\u001B[0m\u001B[1;33m\u001B[0m\u001B[0m\n",
      "\u001B[1;31mFileNotFoundError\u001B[0m: [Errno 2] No such file or directory: 'models/crypto_pipeline.pkl'"
     ]
    }
   ],
   "source": [
    "model = load_pipeline(\"crypto\")"
   ]
  },
  {
   "cell_type": "code",
   "execution_count": null,
   "id": "dde8921c",
   "metadata": {},
   "outputs": [],
   "source": [
    "with mlflow.start_run() as run:\n",
    "    print(run.info.run_id)\n",
    "    mlflow.sklearn.log_model(model, \"crypto\")\n",
    "    result = mlflow.register_model(\n",
    "    \"runs:/d16076a3ec534311817565e6527539c0/sklearn-model\",\n",
    "    \"sk-learn-random-forest-reg\"\n",
    ")\n",
    "    mlflow.end_run()"
   ]
  },
  {
   "cell_type": "code",
   "execution_count": null,
   "id": "6264c6a6",
   "metadata": {},
   "outputs": [],
   "source": [
    "model.predict(pd.Series([\"wassup\"]))"
   ]
  },
  {
   "cell_type": "code",
   "execution_count": null,
   "id": "e0471b2f",
   "metadata": {},
   "outputs": [],
   "source": [
    "from modAL.models import ActiveLearner\n",
    "from modAL.uncertainty import classifier_uncertainty"
   ]
  },
  {
   "cell_type": "code",
   "execution_count": null,
   "id": "9c018031",
   "metadata": {},
   "outputs": [],
   "source": [
    "x"
   ]
  },
  {
   "cell_type": "code",
   "execution_count": null,
   "id": "cd35e28a",
   "metadata": {},
   "outputs": [],
   "source": [
    "from sklearn.svm import SVC, LinearSVC\n",
    "from mlflow import mlflow,log_metric, log_param, log_artifacts\n",
    "model = SVC(probability=True)\n",
    "model.fit([[1,1,1], [0,1,0]], [1,0])\n",
    "mlflow.set_tracking_uri('http://localhost:5000')\n",
    "mlflow.set_experiment(\"my-experiment\")\n",
    "with mlflow.start_run() as run:\n",
    "    mlflow.sklearn.log_model(model, \"mlflow-active-learner\")\n",
    "    mlflow.end_run()"
   ]
  },
  {
   "cell_type": "code",
   "execution_count": null,
   "id": "085beceb",
   "metadata": {},
   "outputs": [],
   "source": [
    "model.predict_proba([[1,1,1]])"
   ]
  },
  {
   "cell_type": "code",
   "execution_count": null,
   "id": "7129ff4d",
   "metadata": {},
   "outputs": [],
   "source": [
    "model.predict([[1,1,0]])"
   ]
  },
  {
   "cell_type": "code",
   "execution_count": null,
   "id": "658f79d2",
   "metadata": {
    "scrolled": false
   },
   "outputs": [],
   "source": [
    "from sklearn.svm import SVC, LinearSVC\n",
    "from sklearn.ensemble import RandomForestClassifier\n",
    "learner = ActiveLearner(\n",
    "    estimator=model,\n",
    "    X_training=pd.Series(x_raw), y_training=pd.Series(y[\"crypto\"])\n",
    ")"
   ]
  },
  {
   "cell_type": "code",
   "execution_count": null,
   "id": "0f9fdd7c",
   "metadata": {},
   "outputs": [],
   "source": [
    "with mlflow.start_run() as run:\n",
    "    mlflow.sklearn.log_model(learner, \"learner-model\")\n",
    "    mlflow.end_run()"
   ]
  },
  {
   "cell_type": "code",
   "execution_count": null,
   "id": "afbca114",
   "metadata": {},
   "outputs": [],
   "source": [
    "from mlflow import mlflow,log_metric, log_param, log_artifacts\n",
    "\n",
    "learner = ActiveLearner(\n",
    "    estimator=SVC(probability=True),\n",
    "    X_training=[[1,1,1], [0,1,0]], y_training=[1,0]\n",
    ")"
   ]
  },
  {
   "cell_type": "code",
   "execution_count": null,
   "id": "c7be4914",
   "metadata": {},
   "outputs": [],
   "source": [
    "learner.predict([[1,1,0]])"
   ]
  },
  {
   "cell_type": "code",
   "execution_count": null,
   "id": "901aa4d5",
   "metadata": {},
   "outputs": [],
   "source": [
    "classifier_uncertainty(learner,[[1,1,0]])"
   ]
  },
  {
   "cell_type": "code",
   "execution_count": null,
   "id": "510c78bd",
   "metadata": {},
   "outputs": [],
   "source": [
    "learner.teach([[1,1,0]], [0])"
   ]
  },
  {
   "cell_type": "code",
   "execution_count": null,
   "id": "a2c9bccd",
   "metadata": {},
   "outputs": [],
   "source": [
    "learner.predict([[1,1,0]])"
   ]
  },
  {
   "cell_type": "code",
   "execution_count": null,
   "id": "7294eda7",
   "metadata": {},
   "outputs": [],
   "source": [
    "classifier_uncertainty(learner,[[1,1,0]])"
   ]
  },
  {
   "cell_type": "code",
   "execution_count": null,
   "id": "473a631e",
   "metadata": {},
   "outputs": [],
   "source": [
    "learner.query(pd.Series([\"Hi does this need to be labbeled\"]))"
   ]
  },
  {
   "cell_type": "code",
   "execution_count": null,
   "id": "05ebfbe6",
   "metadata": {},
   "outputs": [],
   "source": [
    "unqueried_score = learner.score(x, y[\"crypto\"])\n",
    "unqueried_score"
   ]
  },
  {
   "cell_type": "code",
   "execution_count": null,
   "id": "8cdf868a",
   "metadata": {},
   "outputs": [],
   "source": [
    "classifier_uncertainty(learner, prep_pipeline.transform(pd.Series([\"hi, bitcoin\", \"not about the said subject\", \"he is uncertain that this giveaway $$\"])))"
   ]
  },
  {
   "cell_type": "code",
   "execution_count": null,
   "id": "b64c4ef7",
   "metadata": {},
   "outputs": [],
   "source": [
    "import mlflow.sklearn\n",
    "from mlflow.models.signature import infer_signature"
   ]
  },
  {
   "cell_type": "code",
   "execution_count": null,
   "id": "d03d55a8",
   "metadata": {},
   "outputs": [],
   "source": [
    "import os\n",
    "from random import random, randint\n",
    "\n",
    "from mlflow import mlflow,log_metric, log_param, log_artifacts\n",
    "\n",
    "\n",
    "with mlflow.start_run() as run:\n",
    "    mlflow.set_tracking_uri('http://localhost:5000')\n",
    "    mlflow.set_experiment(\"/my-experiment\")\n",
    "\n",
    "    log_param(\"param1\", randint(0, 100))\n",
    "\n",
    "    log_metric(\"foo\", random())\n",
    "    log_metric(\"foo\", random() + 1)\n",
    "    log_metric(\"foo\", random() + 2)\n",
    "\n",
    "    if not os.path.exists(\"outputs\"):\n",
    "        os.makedirs(\"outputs\")\n",
    "    with open(\"outputs/test.txt\", \"w\") as f:\n",
    "        f.write(\"hello world!\")\n",
    "\n",
    "    log_artifacts(\"outputs\")\n",
    "    mlflow.end_run()"
   ]
  },
  {
   "cell_type": "code",
   "execution_count": null,
   "id": "3b94a4eb",
   "metadata": {},
   "outputs": [],
   "source": [
    "import mlflow.sklearn\n",
    "from mlflow.models.signature import infer_signature\n",
    "#signature = infer_signature(pd.Series([\"Hi, this is a dumb data\"]), model.predict(pd.Series([\"Hi, this is a dumb data\"])))\n",
    "#mlflow.sklearn.log_model(model, \"model\", signature=signature)"
   ]
  },
  {
   "cell_type": "code",
   "execution_count": null,
   "id": "d75e4c4a",
   "metadata": {},
   "outputs": [],
   "source": [
    "test_model = SVC(probability=True)\n",
    "test_model.fit(x_train, y_train)"
   ]
  },
  {
   "cell_type": "code",
   "execution_count": null,
   "id": "2e93c82e",
   "metadata": {},
   "outputs": [],
   "source": [
    "test_model.predict(x_test)"
   ]
  },
  {
   "cell_type": "code",
   "execution_count": null,
   "id": "149e3c21",
   "metadata": {},
   "outputs": [],
   "source": []
  },
  {
   "cell_type": "code",
   "execution_count": null,
   "id": "29278257",
   "metadata": {},
   "outputs": [],
   "source": [
    "#signature = infer_signature(x_test, test_model.predict(x_test))\n",
    "with mlflow.start_run() as run:\n",
    "    mlflow.sklearn.log_model(model, \"test_model\")\n",
    "    mlflow.end_run()"
   ]
  },
  {
   "cell_type": "code",
   "execution_count": null,
   "id": "9309a930",
   "metadata": {},
   "outputs": [],
   "source": [
    "with mlflow.start_run() as run:\n",
    "    print(run.info.run_id)\n",
    "    mlflow.end_run()"
   ]
  },
  {
   "cell_type": "code",
   "execution_count": null,
   "id": "bc79f8c1",
   "metadata": {},
   "outputs": [],
   "source": [
    "for f,s in zip([1,2], [3,4]):\n",
    "    print(f,s)"
   ]
  },
  {
   "cell_type": "code",
   "execution_count": null,
   "id": "fdf2e318",
   "metadata": {},
   "outputs": [],
   "source": [
    "json_records = pd.DataFrame(data=[[1,2,3], [2,3,4]], columns=[\"a\", \"b\", \"c\"], index=[\"d\", \"e\"]).to_json(orient=\"records\")\n",
    "json_records"
   ]
  },
  {
   "cell_type": "code",
   "execution_count": null,
   "id": "7e2395d6",
   "metadata": {},
   "outputs": [],
   "source": [
    "import json\n",
    "\n",
    "records = json.loads(json_records)\n",
    "pd.DataFrame(data=records)"
   ]
  },
  {
   "cell_type": "code",
   "execution_count": null,
   "id": "e181696d",
   "metadata": {
    "scrolled": true
   },
   "outputs": [],
   "source": [
    "df_json = pd.DataFrame(data=[[1,2,3], [2,3,4]], columns=[\"a\", \"b\", \"c\"], index=[\"d\", \"e\"]).to_json(orient=\"records\")\n",
    "df_json"
   ]
  },
  {
   "cell_type": "code",
   "execution_count": null,
   "id": "74e4c046",
   "metadata": {},
   "outputs": [],
   "source": [
    "pd.read_json(df_json, orient=\"records\")"
   ]
  },
  {
   "cell_type": "code",
   "execution_count": null,
   "id": "591a2680",
   "metadata": {},
   "outputs": [],
   "source": [
    "pd.DataFrame(data=[[1,2,3], [2,3,4]], columns=[\"a\", \"b\", \"v\"]).to_dict(orient=\"index\")"
   ]
  },
  {
   "cell_type": "code",
   "execution_count": null,
   "id": "901c2aa2",
   "metadata": {},
   "outputs": [],
   "source": [
    "pd.DataFrame(data=[[1,2,3], [2,3,4]], columns=[\"a\", \"b\", \"v\"]).to_dict()"
   ]
  }
 ],
 "metadata": {
  "kernelspec": {
   "display_name": "Python 3 (ipykernel)",
   "language": "python",
   "name": "python3"
  },
  "language_info": {
   "codemirror_mode": {
    "name": "ipython",
    "version": 3
   },
   "file_extension": ".py",
   "mimetype": "text/x-python",
   "name": "python",
   "nbconvert_exporter": "python",
   "pygments_lexer": "ipython3",
   "version": "3.9.6"
  }
 },
 "nbformat": 4,
 "nbformat_minor": 5
}