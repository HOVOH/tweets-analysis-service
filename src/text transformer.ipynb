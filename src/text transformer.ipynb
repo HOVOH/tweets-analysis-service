{
 "cells": [
  {
   "cell_type": "code",
   "execution_count": 8,
   "id": "39d510c8",
   "metadata": {},
   "outputs": [],
   "source": [
    "from nltk.corpus import stopwords\n",
    "from nltk.tokenize import word_tokenize\n",
    "from nltk.stem.porter import PorterStemmer\n",
    "import re\n",
    "\n",
    "\n",
    "def remove_urls(string):\n",
    "    return re.sub(\"https?:\\/\\/.*[\\r\\n]*\", \"\", string)\n",
    "\n",
    "\n",
    "def remove_users(string):\n",
    "    return re.sub(\"@\\\\w*\", \"\", string)\n",
    "\n",
    "\n",
    "def remove_retweets(string):\n",
    "    return re.sub(\"^(rt|RT)\\\\s@\\\\w*:\", \"\", string)\n",
    "\n",
    "\n",
    "def stem_sentence(string, language=\"english\"):\n",
    "    tokens = [w.lower() for w in word_tokenize(string)]\n",
    "    words = [w for w in tokens if not w in set(stopwords.words(language))]\n",
    "    words = [w for w in words if w.isalnum()]\n",
    "    porter = PorterStemmer()\n",
    "    stemmed = [porter.stem(word) for word in words]\n",
    "    return stemmed\n",
    "\n",
    "\n",
    "class TextCleaner:\n",
    "\n",
    "    def __init__(self, stem=True, remove_urls=True, remove_retweets=True, remove_users=True):\n",
    "        self.stem = stem\n",
    "        self.remove_urls = remove_urls\n",
    "        self.remove_retweets = remove_retweets\n",
    "        self.remove_users = remove_users\n",
    "\n",
    "    def fit(self, x, y):\n",
    "        return self\n",
    "\n",
    "    def transform(self, x):\n",
    "        for col in x:\n",
    "            if self.remove_retweets:\n",
    "                x.loc[:,col] = x.loc[:,col].apply(remove_retweets)\n",
    "            if self.remove_urls:\n",
    "                x.loc[:,col] = x.loc[:,col].apply(remove_urls)\n",
    "            if self.remove_users:\n",
    "                x.loc[:,col] = x.loc[:,col].apply(remove_users)\n",
    "            if self.stem:\n",
    "                x.loc[:,col] = x.loc[:,col].apply(lambda sentence: \" \".join(stem_sentence(sentence)))\n",
    "        return x\n",
    "\n",
    "    def set_params(self, stem=True, remove_urls=True, remove_retweets=True, remove_users=True):\n",
    "        self.stem = stem\n",
    "        self.remove_urls = remove_urls\n",
    "        self.remove_retweets = remove_retweets\n",
    "        self.remove_users = remove_users\n"
   ]
  },
  {
   "cell_type": "code",
   "execution_count": 5,
   "id": "762a4e65",
   "metadata": {},
   "outputs": [
    {
     "data": {
      "text/html": [
       "<div>\n",
       "<style scoped>\n",
       "    .dataframe tbody tr th:only-of-type {\n",
       "        vertical-align: middle;\n",
       "    }\n",
       "\n",
       "    .dataframe tbody tr th {\n",
       "        vertical-align: top;\n",
       "    }\n",
       "\n",
       "    .dataframe thead th {\n",
       "        text-align: right;\n",
       "    }\n",
       "</style>\n",
       "<table border=\"1\" class=\"dataframe\">\n",
       "  <thead>\n",
       "    <tr style=\"text-align: right;\">\n",
       "      <th></th>\n",
       "      <th>text_0</th>\n",
       "      <th>text_1</th>\n",
       "    </tr>\n",
       "  </thead>\n",
       "  <tbody>\n",
       "    <tr>\n",
       "      <th>0</th>\n",
       "      <td>this is a first</td>\n",
       "      <td>please @remove this user</td>\n",
       "    </tr>\n",
       "    <tr>\n",
       "      <th>1</th>\n",
       "      <td>sentence first employs</td>\n",
       "      <td></td>\n",
       "    </tr>\n",
       "  </tbody>\n",
       "</table>\n",
       "</div>"
      ],
      "text/plain": [
       "                   text_0                    text_1\n",
       "0         this is a first  please @remove this user\n",
       "1  sentence first employs                          "
      ]
     },
     "execution_count": 5,
     "metadata": {},
     "output_type": "execute_result"
    }
   ],
   "source": [
    "import pandas as pd\n",
    "\n",
    "df = pd.DataFrame(data=[[\"this is a first\", \"please @remove this user\"],[\"sentence first employs\", \"\"]], columns=[\"text_0\", \"text_1\"])\n",
    "df"
   ]
  },
  {
   "cell_type": "code",
   "execution_count": 4,
   "id": "9567887d",
   "metadata": {},
   "outputs": [
    {
     "name": "stdout",
     "output_type": "stream",
     "text": [
      "a\n",
      "b\n",
      "c\n"
     ]
    }
   ],
   "source": [
    "for col in df:\n",
    "    print(col)"
   ]
  },
  {
   "cell_type": "code",
   "execution_count": 9,
   "id": "981c00f2",
   "metadata": {},
   "outputs": [
    {
     "data": {
      "text/html": [
       "<div>\n",
       "<style scoped>\n",
       "    .dataframe tbody tr th:only-of-type {\n",
       "        vertical-align: middle;\n",
       "    }\n",
       "\n",
       "    .dataframe tbody tr th {\n",
       "        vertical-align: top;\n",
       "    }\n",
       "\n",
       "    .dataframe thead th {\n",
       "        text-align: right;\n",
       "    }\n",
       "</style>\n",
       "<table border=\"1\" class=\"dataframe\">\n",
       "  <thead>\n",
       "    <tr style=\"text-align: right;\">\n",
       "      <th></th>\n",
       "      <th>text_0</th>\n",
       "      <th>text_1</th>\n",
       "    </tr>\n",
       "  </thead>\n",
       "  <tbody>\n",
       "    <tr>\n",
       "      <th>0</th>\n",
       "      <td>first</td>\n",
       "      <td>plea user</td>\n",
       "    </tr>\n",
       "    <tr>\n",
       "      <th>1</th>\n",
       "      <td>sentenc first employ</td>\n",
       "      <td></td>\n",
       "    </tr>\n",
       "  </tbody>\n",
       "</table>\n",
       "</div>"
      ],
      "text/plain": [
       "                 text_0     text_1\n",
       "0                 first  plea user\n",
       "1  sentenc first employ           "
      ]
     },
     "execution_count": 9,
     "metadata": {},
     "output_type": "execute_result"
    }
   ],
   "source": [
    "cleaner = TextCleaner()\n",
    "cleaner.transform(df)"
   ]
  }
 ],
 "metadata": {
  "kernelspec": {
   "display_name": "Python 3 (ipykernel)",
   "language": "python",
   "name": "python3"
  },
  "language_info": {
   "codemirror_mode": {
    "name": "ipython",
    "version": 3
   },
   "file_extension": ".py",
   "mimetype": "text/x-python",
   "name": "python",
   "nbconvert_exporter": "python",
   "pygments_lexer": "ipython3",
   "version": "3.9.6"
  }
 },
 "nbformat": 4,
 "nbformat_minor": 5
}